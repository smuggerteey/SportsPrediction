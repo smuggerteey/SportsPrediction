{
  "nbformat": 4,
  "nbformat_minor": 0,
  "metadata": {
    "colab": {
      "provenance": []
    },
    "kernelspec": {
      "name": "python3",
      "display_name": "Python 3"
    },
    "language_info": {
      "name": "python"
    }
  },
  "cells": [
    {
      "cell_type": "code",
      "source": [
        "from google.colab import drive\n",
        "drive.mount('/content/drive')"
      ],
      "metadata": {
        "id": "C8mENG9wlIaT"
      },
      "execution_count": null,
      "outputs": []
    },
    {
      "cell_type": "code",
      "source": [
        "!pip install streamlit\n",
        "!pip install pyngrok"
      ],
      "metadata": {
        "id": "NvGN6932CG0g"
      },
      "execution_count": null,
      "outputs": []
    },
    {
      "cell_type": "code",
      "source": [
        "import streamlit as st\n",
        "from pyngrok import ngrok\n",
        "import pickle\n",
        "import numpy as np"
      ],
      "metadata": {
        "id": "hjRTUChpCdqI"
      },
      "execution_count": null,
      "outputs": []
    },
    {
      "cell_type": "code",
      "source": [
        "model = pickle.load(open('/content/drive/My Drive/Colab Notebooks/FIFA_Player_Ratings/rfr_trained_model1.pkl', 'rb'))\n",
        "selected_features = pickle.load(open('/content/drive/My Drive/Colab Notebooks/FIFA_Player_Ratings/selected_features.pkl', 'rb'))"
      ],
      "metadata": {
        "id": "V1GcdDnBCgUM"
      },
      "execution_count": null,
      "outputs": []
    },
    {
      "cell_type": "code",
      "source": [
        "def main():\n",
        "    st.title(\"Sports Prediction App\")\n",
        "    st.write(\"Enter the features to predict the player rating:\")\n",
        "\n",
        "    # Create input fields for the features\n",
        "    features = []\n",
        "    for feature in selected_features:\n",
        "        feature_value = st.number_input(feature)\n",
        "        features.append(feature_value)\n",
        "\n",
        "    # Make predictions\n",
        "    features_array = np.array(features).reshape(1, -1)\n",
        "    prediction = model.predict(features_array)\n",
        "    output = round(prediction[0], 2)\n",
        "\n",
        "    # Display the prediction\n",
        "    st.write(\"Player Rating: {}\".format(output))\n",
        "\n",
        "if __name__ == '__main__':\n",
        "    main()"
      ],
      "metadata": {
        "id": "j7Lv0Xo2CkSH"
      },
      "execution_count": null,
      "outputs": []
    },
    {
      "cell_type": "code",
      "source": [
        "!pip uninstall pyngrok -y"
      ],
      "metadata": {
        "id": "aN3OUfT6C2Pa"
      },
      "execution_count": null,
      "outputs": []
    },
    {
      "cell_type": "code",
      "source": [
        "!pip install git+https://github.com/alexdlaird/pyngrok.git"
      ],
      "metadata": {
        "id": "su3Mf5aEDP0b"
      },
      "execution_count": null,
      "outputs": []
    },
    {
      "cell_type": "code",
      "source": [
        "from pyngrok import ngrok"
      ],
      "metadata": {
        "id": "F5v1qh4WDRHi"
      },
      "execution_count": null,
      "outputs": []
    },
    {
      "cell_type": "code",
      "source": [
        "\n",
        "# Start the Ngrok tunnel\n",
        "ngrok_tunnel = ngrok.connect(addr=\"5000\", proto=\"http\")\n",
        "\n",
        "# Get the public URL\n",
        "public_url = ngrok_tunnel.public_url\n",
        "print(\"Public URL:\", public_url)"
      ],
      "metadata": {
        "id": "hoVmR3QoDSi_"
      },
      "execution_count": null,
      "outputs": []
    },
    {
      "cell_type": "code",
      "source": [
        "!mkdir /root/.config/ngrok\n",
        "!echo \"web_addr: localhost:8501\" >> /root/.config/ngrok/ngrok.yml"
      ],
      "metadata": {
        "id": "J4nK1ZrrC3pi"
      },
      "execution_count": null,
      "outputs": []
    },
    {
      "cell_type": "code",
      "source": [
        "main()"
      ],
      "metadata": {
        "id": "VBFewWELCxRS"
      },
      "execution_count": null,
      "outputs": []
    },
    {
      "cell_type": "code",
      "source": [
        "!streamlit run /usr/local/lib/python3.10/dist-packages/colab_kernel_launcher.py"
      ],
      "metadata": {
        "id": "kIw7YRm9Oy3u"
      },
      "execution_count": null,
      "outputs": []
    },
    {
      "cell_type": "code",
      "execution_count": null,
      "metadata": {
        "id": "B3yl2QgJQ4Q2"
      },
      "outputs": [],
      "source": [
        "pip install flask-ngrok"
      ]
    },
    {
      "cell_type": "code",
      "source": [
        "app = Flask(__name__)\n",
        "run_with_ngrok(app)\n",
        "\n",
        "port_no = 5000\n",
        "\n",
        "ngrok.set_auth_token(\"2X63A6D4lt4p981gjLtYjOWQ2oe_2kmGaU8p6jETS8stbSGuG\")\n",
        "public_url =  ngrok.connect(port_no).public_url\n",
        "\n",
        "# Load the trained model\n",
        "model = pickle.load(open('/content/drive/My Drive/Colab Notebooks/FIFA_Player_Ratings/rfr_trained_model1.pkl', 'rb'))\n",
        "selected_features = pickle.load(open('/content/drive/My Drive/Colab Notebooks/FIFA_Player_Ratings/selected_features.pkl', 'rb'))\n",
        "\n",
        "@app.route('/')\n",
        "def home():\n",
        "    return render_template('index.html')\n",
        "\n",
        "@app.route('/predict', methods=['POST'])\n",
        "def predict():\n",
        "    features = [float(x) for x in request.form.values()]\n",
        "    features_array = np.array(features).reshape(1, -1)\n",
        "    prediction = model.predict(features_array)\n",
        "    output = round(prediction[0], 2)\n",
        "    return render_template('index.html', prediction_text='Player Rating: {}'.format(output))\n",
        "\n",
        "if __name__ == '__main__':\n",
        "    app.run()"
      ],
      "metadata": {
        "id": "reTX2_jZjsDi",
        "colab": {
          "base_uri": "https://localhost:8080/"
        },
        "outputId": "4ca3c640-4c00-40e3-bb1b-f7e33c7c352e"
      },
      "execution_count": null,
      "outputs": [
        {
          "metadata": {
            "tags": null
          },
          "name": "stdout",
          "output_type": "stream",
          "text": [
            " * Serving Flask app '__main__'\n",
            " * Debug mode: off\n"
          ]
        },
        {
          "metadata": {
            "tags": null
          },
          "name": "stderr",
          "output_type": "stream",
          "text": [
            "INFO:werkzeug:\u001b[31m\u001b[1mWARNING: This is a development server. Do not use it in a production deployment. Use a production WSGI server instead.\u001b[0m\n",
            " * Running on http://127.0.0.1:5000\n",
            "INFO:werkzeug:\u001b[33mPress CTRL+C to quit\u001b[0m\n"
          ]
        },
        {
          "metadata": {
            "tags": null
          },
          "name": "stdout",
          "output_type": "stream",
          "text": [
            " * Running on http://0a35-34-32-239-194.ngrok.io\n",
            " * Traffic stats available on http://127.0.0.1:4040\n"
          ]
        }
      ]
    },
    {
      "cell_type": "code",
      "source": [
        "!curl https://cli-assets.heroku.com/install.sh | sh"
      ],
      "metadata": {
        "id": "q1j3HvffG6-U"
      },
      "execution_count": null,
      "outputs": []
    },
    {
      "cell_type": "code",
      "source": [
        "from pyngrok import ngrok\n",
        "\n",
        "# Set up the ngrok tunnel\n",
        "public_url = ngrok.connect(addr='5000')\n",
        "\n",
        "# Print the public URL\n",
        "print('Public URL:', public_url)"
      ],
      "metadata": {
        "id": "v69NeP788UmD"
      },
      "execution_count": null,
      "outputs": []
    },
    {
      "cell_type": "code",
      "source": [
        "from IPython.display import HTML\n",
        "\n",
        "# Replace <ngrok_url> with your actual ngrok URL\n",
        "ngrok_url = \"http://3cfa-35-230-164-231.ngrok.io\"\n",
        "\n",
        "# Generate HTML code for the clickable link\n",
        "link_html = '<a href=\"{}\" target=\"_blank\">Open Web App</a>'.format(ngrok_url)\n",
        "\n",
        "# Display the HTML code as a clickable link\n",
        "HTML(link_html)"
      ],
      "metadata": {
        "id": "8Qr1odZSBhID"
      },
      "execution_count": null,
      "outputs": []
    },
    {
      "cell_type": "code",
      "source": [
        "from IPython.display import HTML\n",
        "HTML('<a href=\"https://3cfa-35-230-164-231.ngrok.io/\" target=\"_blank\">Open Web App</a>')"
      ],
      "metadata": {
        "id": "HnN_F39Z77M4"
      },
      "execution_count": null,
      "outputs": []
    },
    {
      "cell_type": "code",
      "source": [
        "app = Flask(__name__)\n",
        "\n",
        "#run flask app with ngrok\n",
        "run_with_ngrok(app)\n",
        "\n",
        "model = pickle.load(open('/content/drive/My Drive/Colab Notebooks/FIFA_Player_Ratings/rfr_trained_model1.pkl', 'rb'))\n",
        "\n",
        "@app.route(\"/\")\n",
        "def home():\n",
        "    return render_template(\"index.html\")\n",
        "\n",
        "@app.route(\"/getprediction\", methods=[\"POST\"])\n",
        "def getprediction():\n",
        "  input = [str(x) for x in request.form.values()]\n"
      ],
      "metadata": {
        "id": "oq0SqamnfU6i"
      },
      "execution_count": null,
      "outputs": []
    }
  ]
}